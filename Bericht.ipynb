{
 "cells": [
  {
   "cell_type": "markdown",
   "id": "98d3926a",
   "metadata": {},
   "source": [
    "Wohin ist der Schnee?\n",
    "\n",
    "Wir haben uns überlegt, wie wahrscheinlich Schneefall im Dezember ist und ob sich die Wahrscheinlichkeit über das letzte Jahrhundert geändert hat.\n",
    "\n"
   ]
  },
  {
   "cell_type": "markdown",
   "id": "d8863a5a",
   "metadata": {},
   "source": [
    "### Systemdefinition und Annahmen\n",
    "Dafür arbeiten wir mit den realen Daten vom Klimamessnetz (Swiss NBCN) für verschiedene Regionen in der Schweiz. Zwar sind nicht für alle Messstationen die selben Zeiträume vorhanden, doch erlauben die Daten trotzdem interessante Trendauswertungen.\n",
    "\n",
    "Konkret haben wir aus Temperatur und Niederschlag berechnet, wie sich die Wahrscheinlichkeit für Schneefall verändert hat. Die Veränderung haben wir anhand eines Hypothesentests evaluiert. Die Wahrscheinlichkeit für Niederschlag stammt von den historisch gemessenen Tagen mit Niederschlag relativ zu allen Tagen. Die Wahrscheinlichkeit für eine definierte Temperatur kommt von einer CDF Berechnung anhand der Temperatur-Verteilung für den definierten Zeitabschnitt.\n",
    "\n",
    "Fokussiert haben wir uns auf Basel, haben die Berechnungen danach auf Meiringen, Sils-Maria, Grosser S. Bernhard Pass und Säntis. Dies deckt nicht nur unterschiedliche Geografische Orte, sondern auch die ganzen Höhenlagen der Schweiz ab.\n",
    "\n",
    "Unsere Annahmen für Schneefall sind einerseits zwingend Niederschlag. Andererseits haben wir die notwendige Temperatur anhand von Angaben von MeteoSchweiz und von \"Die Erdatmosphäre: Ihre chemische Zusammensetzung, vertikale Struktur und Physik\" eine maximale Temperatur von 2 Grad Celsius festgelegt. Die weiteren Messwerte (wie Luftdruck, Sonnenschein etc.) haben wir für Schneefall als irrelevant betrachtet, da sie zwar das Wetter beeinflussen, aber nicht direkt Schneefall auslösen.\n",
    "\n",
    "Für den Niederschlag gibt es die Ereignisse: Ja oder Nein. Die Menge Niederschlag hat keinen direkte Einfluss auf die Tatsache, ob es schneit oder nicht.\n",
    "\n",
    "Bei der Temperatur haben wir eine Verteilung anhand der gemessenen Werte im Jahrzehnt modeliert und anhand dieser die kumulierte Wahrscheinlichkeit (CDF) für 2 Grad berechnet.\n",
    "\n",
    "Danach haben wir mit einer Regressionsanalyse der Abhängigkeiten von Temperatur und Niederschlag überprüft."
   ]
  },
  {
   "cell_type": "markdown",
   "id": "01bca235",
   "metadata": {},
   "source": [
    "### Lösungsstrategi\n",
    "\n",
    "https://data.geo.admin.ch/ch.meteoschweiz.klima/nbcn-tageswerte/liste-download-nbcn-d.csv"
   ]
  },
  {
   "cell_type": "markdown",
   "id": "d7093635",
   "metadata": {},
   "source": [
    "### Wahrscheinlichkeitsmodel\n",
    "Da wir festgestellt haben, dass Niederschlag und Temperatur unabhängig sind, haben wir für die Berechnung der Wahrscheinlichkeit von Schneefall die Formel \"P(A∩B) = P(A) * P(B) verwendet\"."
   ]
  },
  {
   "cell_type": "code",
   "execution_count": 3,
   "id": "0cd34522",
   "metadata": {},
   "outputs": [],
   "source": [
    "#Import der Libraries und Definition von globalen Variablen\n",
    "import pandas as pd\n",
    "import numpy as np\n",
    "from scipy import stats\n",
    "from scipy.stats import norm\n",
    "import matplotlib.pyplot as plt\n",
    "\n",
    "\n",
    "# Global Definitions\n",
    "samplingTemperature = 2\n",
    "TimePeriod = 10\n",
    "HypothesisDecade = 2010"
   ]
  },
  {
   "cell_type": "markdown",
   "id": "8ce854a5",
   "metadata": {},
   "source": [
    "Anhand der Messdaten von Basel haben wir uns zuerst die historische Entwicklung von Temperatur und Niederschlag in Basel angeschaut"
   ]
  },
  {
   "cell_type": "code",
   "execution_count": null,
   "id": "ba3f51f9",
   "metadata": {},
   "outputs": [],
   "source": []
  },
  {
   "cell_type": "markdown",
   "id": "3e0a9767",
   "metadata": {},
   "source": [
    "Danach haben wir mit einer Regressionsanalyse der Abhängigkeiten von Temperatur und Niederschlag überprüft."
   ]
  },
  {
   "cell_type": "code",
   "execution_count": null,
   "id": "e29b639a",
   "metadata": {},
   "outputs": [],
   "source": []
  },
  {
   "cell_type": "markdown",
   "id": "c38efd5f",
   "metadata": {},
   "source": []
  }
 ],
 "metadata": {
  "kernelspec": {
   "display_name": "Python 3",
   "language": "python",
   "name": "python3"
  },
  "language_info": {
   "codemirror_mode": {
    "name": "ipython",
    "version": 3
   },
   "file_extension": ".py",
   "mimetype": "text/x-python",
   "name": "python",
   "nbconvert_exporter": "python",
   "pygments_lexer": "ipython3",
   "version": "3.8.8"
  }
 },
 "nbformat": 4,
 "nbformat_minor": 5
}
