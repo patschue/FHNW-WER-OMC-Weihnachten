{
 "cells": [
  {
   "cell_type": "markdown",
   "metadata": {},
   "source": [
    "# Wohin ist der Schnee?\n",
    "\n",
    "Wir haben uns überlegt, wie wahrscheinlich Schneefall im Dezember ist und ob sich die Wahrscheinlichkeit über das letzte Jahrhundert geändert hat.\n"
   ]
  },
  {
   "cell_type": "markdown",
   "metadata": {},
   "source": [
    "# Titel"
   ]
  },
  {
   "cell_type": "markdown",
   "metadata": {},
   "source": [
    "Zuerst wollten wir ein Modell erstellen, dass besagt, wie Temperatur und Niederschlag an den beiden Tagen vor Schneefall sein müssen. Während der Berechnungen haben wir aber festgestellt, dass die Tage vor Schneefall kaum einen Einfluss haben. Trotzdem wollen wir die wichtigsten Erkenntnisse vorstellen.\n",
    "\n",
    "Zur Beantwortung beider arbeiten wir mit realen Daten vom Klimamessnetz (Swiss NBCN) für verschiedene Regionen in der Schweiz. Diese Daten sind via das Geoportal des Bundes erhältlich. Es sind zehn unterschiedliche Messdaten aufgeführt. Neben den Werten Tagesdurchschnittstemperatur und Niederschlag haben wir die Schneehöhe pro Tag verwendet.\n",
    "\n",
    "Fokussiert haben wir uns auf Basel, haben die Berechnungen danach auf Meiringen, Sils-Maria, Grosser S. Bernhard Pass und Säntis. Dies deckt nicht nur unterschiedliche Geografische Orte, sondern auch die ganzen Höhenlagen der Schweiz ab.\n",
    "\n",
    "Die Daten reichen teilweise bis weit ins 19 Jahrhundert zurück. Allerdings hatten wir ausser in Basel Mühe mit der Datenqualität, insbesondere bei der Schneehöhe.\n",
    "\n",
    "Für unser Modell mussten wir wenige Annahmen treffen. Zuerst haben wir definiert, dass die Bedingungen für Schneefall nur die Temperatur und Niederschlag sind. In der Praxis kommen natürlich noch weitere Faktoren wie Partikel in der Luft hinzu, doch ist unser Datensatz begrenzt. Weiter haben wir beschlossen, dass Niederschlag bei unter zwei Grad Celsius als Schneefall runterkommt. Dies deckt sich mit Angabe von MeteoSchweiz xxx, wonach Schnee bis 200-400 Meter unterhalb der Null-Grad-Grenze fallen kann und andererseits mit \"Die Erdatmosphäre: Ihre chemische Zusammensetzung, vertikale Struktur und Physik\" xxx, die die Abnahme der Temperatur mit abnehmender Höhe erklärt. Die weiteren Messwerte in der Datenbank (wie Luftdruck, Sonnenschein etc.) haben wir für Schneefall als irrelevant betrachtet, da sie zwar das Wetter beeinflussen, aber nicht direkt Schneefall auslösen.\n",
    "\n",
    "Weiter hat wir definiert, dass es fürden Niederschlag zwei Ereignisse gibt: Ja oder Nein. Die Menge Niederschlag hat keinen direkte Einfluss auf die Tatsache, ob es schneit oder nicht.\n",
    "\n",
    "Bei der Temperatur haben wir eine Verteilung anhand der gemessenen Werte im Jahrzehnt modeliert und anhand dieser die kumulierte Wahrscheinlichkeit (CDF) für 2 Grad berechnet."
   ]
  },
  {
   "cell_type": "markdown",
   "metadata": {},
   "source": [
    "### Import der benötigten Libraries und Definition von globalen Variablen"
   ]
  },
  {
   "cell_type": "code",
   "execution_count": 12,
   "metadata": {},
   "outputs": [],
   "source": [
    "import pandas as pd\n",
    "import numpy as np\n",
    "from scipy import stats\n",
    "from scipy.stats import norm\n",
    "import matplotlib.pyplot as plt\n",
    "from statsmodels.stats.weightstats import ztest as ztest\n",
    "\n",
    "\n",
    "# Global Definitions\n",
    "samplingTemperature = 2\n",
    "TimePeriod = 10\n",
    "HypothesisDecade = 2010"
   ]
  },
  {
   "cell_type": "markdown",
   "metadata": {},
   "source": [
    "### Aufbereitung der Daten"
   ]
  },
  {
   "cell_type": "code",
   "execution_count": 21,
   "metadata": {},
   "outputs": [],
   "source": [
    "regionsCsvData = [[\"Basel.csv\", \";\",1860]]\n",
    "Vortage = pd.DataFrame(index=['Tage mit Temperatur für Schnee', 'Tage mit Schneefall', 'Temperatur Wahrscheinlichkeit Folgetag', 'Temperatur Wahrscheinlichkeit zweiter Folgetag', 'Niederschlag Wahrscheinlichkeit Folgetag', 'Niederschlag Wahrscheinlichkeit zweiter Folgetag', 'P-Wert Vergleich Temp Vortag', 'Temperatur vor Schneefall', 'Temperatur Dezember'])\n",
    "\n",
    "\n",
    "def CleanDF(regionDataFrame):\n",
    "\n",
    "    # Aufbereitung der Daten\n",
    "    regionDataFrame[\"Gesamtschneehöhe\"] = regionDataFrame[\"Gesamtschneehöhe\"].replace('-', 0)\n",
    "    regionDataFrame[\"Lufttemperatur Tagesmittel\"] = regionDataFrame[\"Lufttemperatur Tagesmittel\"].replace(\"−\", \"-\")\n",
    "    regionDataFrame[\"Lufttemperatur Tagesmittel\"] = pd.to_numeric(\n",
    "    regionDataFrame[\"Lufttemperatur Tagesmittel\"], errors='coerce')\n",
    "    regionDataFrame[\"Niederschlag\"] = pd.to_numeric(regionDataFrame[\"Niederschlag\"], errors='coerce')\n",
    "    regionDataFrame[\"Gesamtschneehöhe\"] = pd.to_numeric(regionDataFrame[\"Gesamtschneehöhe\"])\n",
    "\n",
    "\n",
    "    # Umformatierung des Datumfeldes\n",
    "    regionDataFrame[\"Datum\"] = pd.to_datetime(regionDataFrame[\"date\"], format='%Y%m%d')\n",
    "\n",
    "    # Berechnung Schneehöhe gestern - Schneehöhe heute = Differenz eines Tages\n",
    "    # Aufzeichnung des Niederschlags vom Vortag endet nicht um Mitternacht, sondern zum Zeitpunkt der heutigen Schneehöhen-Messung (siehe Definitionen txt)\n",
    "    regionDataFrame[\"SchneeTagesDifferenz\"] = regionDataFrame['Gesamtschneehöhe'].shift(-1) - regionDataFrame['Gesamtschneehöhe']\n",
    "    regionDataFrame[\"SchneeVortag\"] = regionDataFrame['SchneeTagesDifferenz'].shift(-1)\n",
    "    regionDataFrame[\"SchneeVorVortag\"] = regionDataFrame[\"SchneeVortag\"].shift(-1)\n",
    "\n",
    "    # Selektion von Dezember Tagen\n",
    "    dfDez = regionDataFrame[pd.to_datetime(regionDataFrame['Datum']).dt.month == 12]\n",
    "\n",
    "\n",
    "    # Löschen der nicht benötigten Spalten\n",
    "    dfDez = dfDez[['Datum', 'Gesamtschneehöhe', 'SchneeTagesDifferenz', \"SchneeVortag\", \"SchneeVorVortag\", 'Niederschlag', 'Lufttemperatur Tagesmittel']]\n",
    "    \n",
    "    return dfDez"
   ]
  },
  {
   "cell_type": "markdown",
   "metadata": {},
   "source": [
    "## Analyse der Tage vor Schneefall"
   ]
  },
  {
   "cell_type": "markdown",
   "metadata": {},
   "source": [
    "Ursprünglich wollten wir ein Modell erstellen, dass besagt, wie Temperatur und Niederschlag an den beiden Tagen vor Schneefall sein müssen. Während der Berechnungen haben wir aber festgestellt, dass die Tage vor Schneefall kaum einen Einfluss haben. Trotzdem wollen wir die wichtigsten Wahrscheinlichkeiten vorstellen.\n",
    "\n",
    "Wie im Resultat ersichtlich war es an rund 80% der Tage vor Schneefall nicht wärmer, als 3.5 Grad und zwei Tage vor Schneefall nicht wärmer 4.0 Grad Celsius. Um Tage mit grosser Temperaturschwankungen auszuschlissen, verwenden wir diese Grenzwerte.\n",
    "\n",
    "Da sich die Kriterien für Schneefall (tiefe Temperaturen und Niederschlag) im Verlauf der Zeit nicht geändert haben, rechnen wir mit sämtlichen Dezember Werte, unabhängig vom Jahr.\n",
    "\n",
    "Diskussion und Erklärung der Resultate folgen nach dem Code und Print."
   ]
  },
  {
   "cell_type": "code",
   "execution_count": 27,
   "metadata": {},
   "outputs": [
    {
     "name": "stdout",
     "output_type": "stream",
     "text": [
      "An 79.16 % der Tage vor dem Schneefall war die Temperatur unter 3.5 Grad.\n",
      "Diese Temperatur wurde an 52.0 % der beobachteten Tage im Dezember unterschritten.\n",
      "An 78.23 % des zweiten Tages vor dem Schneefall war die Temperatur unter 4.0 Grad.\n",
      "Diese Temperatur wurde an 70.0 % der beobachteten Tage im Dezember unterschritten.\n",
      "P-Wert zum Vergleich der Temperatur am Tag vor Schneefall: 1.2062236612266887e-10\n",
      "P-Wert zum Vergleich der Temperatur zwei Tage vor Schneefall: 4.608262646231675e-05\n",
      "Tage mit Temperatur für Schnee: 2182 und an 174 folgenden Tagen hat es geschneit.\n",
      "Wahrscheinlichkeit: 0.0797\n",
      "Tage mit Temperatur für Schnee: 2294 und an 180 übernächsten Tagen hat es geschneit.\n",
      "Wahrscheinlichkeit: 0.0785\n",
      "Tage mit Niederschlag: 1519 und an 129 folgenden Tagen hat es geschneit.\n",
      "Wahrscheinlichkeit: 0.0849\n",
      "Tage mit Niederschlag: 1519 und an 124 übernächsten Tagen hat es geschneit.\n",
      "Wahrscheinlichkeit: 0.0816\n",
      "Tage mit Niederschlag und Temperatur für Schnee: 789 und an 88 folgenden Tagen hat es geschneit.\n",
      "Wahrscheinlichkeit: 0.1115\n",
      "Tage mit Niederschlag und Temperatur für Schnee: 857 und an 85 übernächsten Tagen hat es geschneit.\n",
      "Wahrscheinlichkeit: 0.0992\n",
      "                                                    Basel.csv\n",
      "Tage mit Temperatur für Schnee                    2182.000000\n",
      "Tage mit Schneefall                                174.000000\n",
      "Temperatur Wahrscheinlichkeit Folgetag               0.079700\n",
      "Temperatur Wahrscheinlichkeit zweiter Folgetag       0.078500\n",
      "Niederschlag Wahrscheinlichkeit Folgetag             0.084900\n",
      "Niederschlag Wahrscheinlichkeit zweiter Folgetag     0.081600\n",
      "P-Wert Vergleich Temp Vortag                         0.000046\n",
      "Temperatur vor Schneefall                           -0.190000\n",
      "Temperatur Dezember                                  1.770000\n"
     ]
    }
   ],
   "source": [
    "def Analyse_Vortage(Region):\n",
    "    # Cleanup für Analyse Vortage\n",
    "    dfSnow = df.loc[df['SchneeTagesDifferenz'] > 0]\n",
    "    dfSnow = dfSnow.replace(\"-\", np.nan)\n",
    "    dfSnowDez = dfSnow[pd.to_datetime(dfSnow['Datum']).dt.month == 12]\n",
    "    dfVortagSnow = dfDez.loc[dfDez['SchneeVortag'] > 0]\n",
    "    dfVorVortagSnow = dfDez.loc[dfDez['SchneeVorVortag'] > 0]\n",
    "    dfDezforDays = dfDez[(pd.to_datetime(dfDez['Datum']).dt.year >= 1886) & (pd.to_datetime(dfDez['Datum']).dt.year <= 1900) | (pd.to_datetime(dfDez['Datum']).dt.year >= 1931) & (pd.to_datetime(dfDez['Datum']).dt.year <= 2020)]\n",
    "\n",
    "    # CDF zur Feststellung der Temperatur, die häufig am Tag vor Schneefall gemessen wurde und Anteil an allen Temperaturen\n",
    "    meanTempbeforeSnow = np.mean(dfVortagSnow[\"Lufttemperatur Tagesmittel\"])\n",
    "    stdTempDecade = np.std(dfVortagSnow[\"Lufttemperatur Tagesmittel\"])\n",
    "    VerteilungTempVortag = norm(meanTempbeforeSnow, stdTempDecade)\n",
    "    VerteilungTempVortag = round(VerteilungTempVortag.cdf(3.5), 4)\n",
    "    print(\"An\", round(VerteilungTempVortag*100, 2), \"% der Tage vor dem Schneefall war die Temperatur unter 3.5 Grad.\")\n",
    "    print(\"Diese Temperatur wurde an\", round(len(dfDez.loc[dfDez['Lufttemperatur Tagesmittel'] <= 2])  / len(dfDez['Lufttemperatur Tagesmittel']), 2) * 100, \"% der beobachteten Tage im Dezember unterschritten.\")\n",
    "    # CDF zur Feststellung der Temperatur, die häufig zwei Tage vor Schneefall gemessen wurde und Anteil an allen Temperaturen\n",
    "    meanTempDecade = np.mean(dfVorVortagSnow[\"Lufttemperatur Tagesmittel\"])\n",
    "    stdTempDecade = np.std(dfVorVortagSnow[\"Lufttemperatur Tagesmittel\"])\n",
    "    VerteilungTempVorvortag = norm(meanTempDecade, stdTempDecade)\n",
    "    VerteilungTempVorvortag = round(VerteilungTempVorvortag.cdf(4), 4)\n",
    "    print(\"An\", round(VerteilungTempVorvortag*100, 2), \"% des zweiten Tages vor dem Schneefall war die Temperatur unter 4.0 Grad.\")\n",
    "    print(\"Diese Temperatur wurde an\", round(len(dfDez.loc[dfDez['Lufttemperatur Tagesmittel'] <= 4.0])  / len(dfDez['Lufttemperatur Tagesmittel']), 2) * 100, \"% der beobachteten Tage im Dezember unterschritten.\")\n",
    "\n",
    "    # Hypothesentest ob sich Temperatur vom Vortag zu den üblichen Temperaturen im Dezember unterscheidet\n",
    "    meanTempDez = np.mean(dfDezforDays[\"Lufttemperatur Tagesmittel\"])\n",
    "    result = ztest(dfDezforDays[\"Lufttemperatur Tagesmittel\"], dfVortagSnow[\"Lufttemperatur Tagesmittel\"], value=0)\n",
    "    print(\"P-Wert zum Vergleich der Temperatur am Tag vor Schneefall:\", result[1])\n",
    "    # Hypothesentest ob sich Temperatur vom zweiten Vortag zu den üblichen Temperaturen im Dezember unterscheidet\n",
    "    result = ztest(dfDezforDays[\"Lufttemperatur Tagesmittel\"], dfVorVortagSnow[\"Lufttemperatur Tagesmittel\"], value=0)\n",
    "    print(\"P-Wert zum Vergleich der Temperatur zwei Tage vor Schneefall:\", result[1])\n",
    "\n",
    "    #Analyse der beiden Tage vor Schneefall in Bezug auf Temperatur und Niederschlag\n",
    "    print(\"Tage mit Temperatur für Schnee:\", len(dfDezforDays[dfDezforDays[\"Lufttemperatur Tagesmittel\"] <= 3.5]), \"und an\", len(dfDezforDays[(dfDezforDays[\"Lufttemperatur Tagesmittel\"] <= 3.5) & (dfDezforDays[\"SchneeVortag\"] > 0)]), \"folgenden Tagen hat es geschneit.\")\n",
    "    print(\"Wahrscheinlichkeit:\", round(len(dfDezforDays[(dfDezforDays[\"Lufttemperatur Tagesmittel\"] <= 3.5) & (dfDezforDays[\"SchneeVortag\"] > 0)]) / len(dfDezforDays[dfDezforDays[\"Lufttemperatur Tagesmittel\"] <= 3.5]), 4))\n",
    "    print(\"Tage mit Temperatur für Schnee:\", len(dfDezforDays[dfDezforDays[\"Lufttemperatur Tagesmittel\"] <= 4.0]), \"und an\", len(dfDezforDays[(dfDezforDays[\"Lufttemperatur Tagesmittel\"] <= 4.0) & (dfDezforDays[\"SchneeVorVortag\"] > 0)]), \"übernächsten Tagen hat es geschneit.\")\n",
    "    print(\"Wahrscheinlichkeit:\", round(len(dfDezforDays[(dfDezforDays[\"Lufttemperatur Tagesmittel\"] <= 4.0) & (dfDezforDays[\"SchneeVorVortag\"] > 0)]) / len(dfDezforDays[dfDezforDays[\"Lufttemperatur Tagesmittel\"] <= 4.0]), 4))\n",
    "    TageTemperatur = len(dfDezforDays[dfDezforDays[\"Lufttemperatur Tagesmittel\"] <= 3.5])\n",
    "    TageSchneefall = len(dfDezforDays[(dfDezforDays[\"Lufttemperatur Tagesmittel\"] <= 3.5) & (dfDezforDays[\"SchneeVortag\"] > 0)])\n",
    "    WahrscheinlichkeitTempSchneeFolgetag = round(len(dfDezforDays[(dfDezforDays[\"Lufttemperatur Tagesmittel\"] <= 3.5) & (dfDezforDays[\"SchneeVortag\"] > 0)]) / len(dfDezforDays[dfDezforDays[\"Lufttemperatur Tagesmittel\"] <= 3.5]), 4)\n",
    "    WahrscheinlichkeitTempSchneezweiterFolgetag = round(len(dfDezforDays[(dfDezforDays[\"Lufttemperatur Tagesmittel\"] <= 4.0) & (dfDezforDays[\"SchneeVorVortag\"] > 0)]) / len(dfDezforDays[dfDezforDays[\"Lufttemperatur Tagesmittel\"] <= 4.0]), 4)\n",
    "    print(\"Tage mit Niederschlag:\", len(dfDezforDays[dfDezforDays[\"Niederschlag\"] > 0]), \"und an\", len(dfDezforDays[(dfDezforDays[\"Niederschlag\"] > 0) & (dfDezforDays[\"SchneeVortag\"] > 0)]), \"folgenden Tagen hat es geschneit.\")\n",
    "    print(\"Wahrscheinlichkeit:\", round(len(dfDezforDays[(dfDezforDays[\"Niederschlag\"] > 0) & (dfDezforDays[\"SchneeVortag\"] > 0)]) / len(dfDezforDays[dfDezforDays[\"Niederschlag\"] > 0]), 4)) \n",
    "    print(\"Tage mit Niederschlag:\", len(dfDezforDays[dfDezforDays[\"Niederschlag\"] > 0]), \"und an\", len(dfDezforDays[(dfDezforDays[\"Niederschlag\"] > 0) & (dfDezforDays[\"SchneeVorVortag\"] > 0)]), \"übernächsten Tagen hat es geschneit.\")\n",
    "    print(\"Wahrscheinlichkeit:\", round(len(dfDezforDays[(dfDezforDays[\"Niederschlag\"] > 0) & (dfDezforDays[\"SchneeVorVortag\"] > 0)]) / len(dfDezforDays[dfDezforDays[\"Niederschlag\"] > 0]), 4)) \n",
    "    WahrscheinlichkeitNiedersSchneeFolgetag = round(len(dfDezforDays[(dfDezforDays[\"Niederschlag\"] > 0) & (dfDezforDays[\"SchneeVortag\"] > 0)]) / len(dfDezforDays[dfDezforDays[\"Niederschlag\"] > 0]), 4)\n",
    "    WahrscheinlichkeitNiedersSchneezweiterFolgetag = round(len(dfDezforDays[(dfDezforDays[\"Niederschlag\"] > 0) & (dfDezforDays[\"SchneeVorVortag\"] > 0)]) / len(dfDezforDays[dfDezforDays[\"Niederschlag\"] > 0]), 4)\n",
    "    print(\"Tage mit Niederschlag und Temperatur für Schnee:\", len(dfDezforDays[(dfDezforDays[\"Niederschlag\"] > 0) & (dfDezforDays[\"Lufttemperatur Tagesmittel\"] <= 3.5)]), \"und an\", len(dfDezforDays[(dfDezforDays[\"Niederschlag\"] > 0) & (dfDezforDays[\"Lufttemperatur Tagesmittel\"] <= 3.5) & (dfDezforDays[\"SchneeVortag\"] > 0)]), \"folgenden Tagen hat es geschneit.\")\n",
    "    print(\"Wahrscheinlichkeit:\", round(len(dfDezforDays[(dfDezforDays[\"Niederschlag\"] > 0) & (dfDezforDays[\"Lufttemperatur Tagesmittel\"] <= 3.5) & (dfDezforDays[\"SchneeVortag\"] > 0)]) / len(dfDezforDays[(dfDezforDays[\"Niederschlag\"] > 0) & (dfDezforDays[\"Lufttemperatur Tagesmittel\"] <= 3.5)]), 4))\n",
    "    print(\"Tage mit Niederschlag und Temperatur für Schnee:\", len(dfDezforDays[(dfDezforDays[\"Niederschlag\"] > 0) & (dfDezforDays[\"Lufttemperatur Tagesmittel\"] <= 4.0)]), \"und an\", len(dfDezforDays[(dfDezforDays[\"Niederschlag\"] > 0) & (dfDezforDays[\"Lufttemperatur Tagesmittel\"] <= 4.0) & (dfDezforDays[\"SchneeVorVortag\"] > 0)]), \"übernächsten Tagen hat es geschneit.\")\n",
    "    print(\"Wahrscheinlichkeit:\", round(len(dfDezforDays[(dfDezforDays[\"Niederschlag\"] > 0) & (dfDezforDays[\"Lufttemperatur Tagesmittel\"] <= 4.0) & (dfDezforDays[\"SchneeVorVortag\"] > 0)]) / len(dfDezforDays[(dfDezforDays[\"Niederschlag\"] > 0) & (dfDezforDays[\"Lufttemperatur Tagesmittel\"] <= 4.0)]), 4))\n",
    "    Vortage[Region[0]] = [TageTemperatur, TageSchneefall, WahrscheinlichkeitTempSchneeFolgetag, WahrscheinlichkeitTempSchneezweiterFolgetag, WahrscheinlichkeitNiedersSchneeFolgetag, WahrscheinlichkeitNiedersSchneezweiterFolgetag, result[1], round(meanTempbeforeSnow, 2), round(meanTempDez, 2)]\n",
    "\n",
    "# Auslösung der Funktionen        \n",
    "for Region in regionsCsvData:\n",
    "        df = pd.read_csv(Region[0],sep=Region[1])\n",
    "        dfDez= CleanDF(df)\n",
    "        Analyse_Vortage(Region)\n",
    "        \n",
    "print(Vortage)       "
   ]
  },
  {
   "cell_type": "markdown",
   "metadata": {},
   "source": [
    "## Analyse des Tages vor Schneefall\n",
    "\n",
    "- Mit einem P-Wert von weit unter 0.01 unterscheidet sich die Temperatur am Vortag von Schneefall signifikant gegenüber den üblichen Temperaturen im Dezember. Der sehr tiefe P-Wert dürfte auch wegen der grossen Anzahl Beobachtungen so tief sein.\n",
    "- Die Temperatur am Tag vor Schneefall betrug durchschnittlich -0.19 Grad, während die Durchschnittstemperatur im Dezember 1.77 betrug.\n",
    "- Wie bereits festgehalten, betrug die Temperatur an den meisten Tagen (80%) vor Schneefall 3.5 Grad Celsius und tiefer. Diese Temperatur wurde aber an rund 50% der Tage gemessen. Das entspricht 2'180 Tage, von denen es nur an 174 folgenden Tagen geschneit hat. Anders ausgedrückt, in Basel passt die Temperatur jeden zweiten Tag für Schneefall am nächsten Tag, aber auf diese folgt Schneefall nur mit einer Wahrscheinlichkeit von 8%. Die kombinierte Wahrscheinlichkeit beträgt also rund 4%.\n",
    "- Niederschlag gab es im Dezember an 1'519 Tage und an 129 darauf folgenden Tagen hat es geschneit. Das entspricht 8.5 Prozent.\n",
    "- Kombinieren wir die beiden Kriterien, hatte es an 789 Tagen Niederschlag und Temperaturen unter 3.5 Grad, aber nur an 88 der folgenden Tagen hat es auch geschneit. Das ist eine Wahrscheinlichkeit von 11.1 Prozent.\n",
    "\n",
    "## Analyse des zweiten Tages vor Schneefall\n",
    "\n",
    "- Mit einem P-Wert von weit unter 0.01 unterscheidet sich die Temperatur am Vortag von Schneefall signifikant gegenüber den üblichen Temperaturen im Dezember. Der sehr tiefe P-Wert dürfte auch wegen der grossen Anzahl Beobachtungen so tief sein.\n",
    "- Wie bereits festgehalten, betrug die Temperatur an den meisten Tagen (80%) vor Schneefall 4.0 Grad Celsius und tiefer. Diese Temperatur wurde aber an rund 70% der Tage gemessen. Das entspricht 2'294 Tage, von denen es nur an 180 folgenden Tagen geschneit hat. Anders ausgedrückt, in Basel passt die Temperatur an 70% der Tage für Schneefall am übernächsten Tag, aber auf diese folgt wiederum Schneefall nur mit einer Wahrscheinlichkeit von 7.8%. Die kombinierte Wahrscheinlichkeit beträgt also rund 5.5%.\n",
    "- Niederschlag gab es im Dezember an 1'519 Tage und an 124 der übernächsten Tagen hat es geschneit. Das entspricht 8.1 Prozent.\n",
    "- Kombinieren wir die beiden Kriterien, hatte es an 857 Tagen Niederschlag und Temperaturen unter 4.0 Grad, aber nur an 85 der folgenden Tagen hat es auch geschneit. Das ist eine Wahrscheinlichkeit von 9.9 Prozent.\n",
    "\n",
    "## Fazit zur Analyse der Tage vor Schneefall\n",
    "\n",
    "Zwar unterscheiden sich die Temperaturen an den beiden Tage vor Schneefall signifikant von den durchschnittlichen Temperaturen im Dezember. Da es in Basel aber selten schneit, liefert uns das Modell sehr tiefe Wahrscheinlichkeiten. Das obwohl wir Kriterien gewählt haben, laut denen es nach jedem zweiten Tag schneien könnte."
   ]
  },
  {
   "cell_type": "markdown",
   "metadata": {},
   "source": [
    "## Zeitliche Entwicklung der Wahrscheinlichkeit für Schneefall"
   ]
  },
  {
   "cell_type": "markdown",
   "metadata": {},
   "source": [
    "Aufgrund dieses Fazits haben wir dieses Modell nicht weiter verfolgt. Wir haben uns dafür der Wahrscheinlichkeit für Schneefall im Dezember und der zeitlichen Entwicklung über das letzte Jahrhundert gewidmet.\n",
    "\n",
    "Konkret haben wir untersucht, wie sich Temperatur und Niederschlag im Verlauf der Zeit geändert hat.\n",
    "\n",
    "Dazu haben wir für jeweils 10 Jahre die Verteilung der jährlichen Durchschnittstemperaturen verwendet und mittels CDF die Wahrscheinlichkeit für Temperaturen unter den notwendigen 2.0 Grad berechnet. Beim Niederschlag haben wir die Wahrscheinlichkeit für Niederschlag berechnet. Da wir festgestellt haben, dass Niederschlag und Temperatur unabhängig sind, haben wir für die Berechnung der Wahrscheinlichkeit von Schneefall die Formel \"P(A∩B) = P(A) * P(B) verwendet\".\n",
    "\n",
    "Diese Wahrscheinlichkeiten haben wir dann für einen Hypthesentest verwendet. Dabei ist unser Nullhypothese, die Wahrscheinlichkeit für Schneefall im Jahrzehnt 2010-2019. Dagegen haben wir als Alternativhypothese die jeweiligen Jahrzehnte definiert. "
   ]
  },
  {
   "cell_type": "code",
   "execution_count": null,
   "metadata": {},
   "outputs": [],
   "source": []
  }
 ],
 "metadata": {
  "kernelspec": {
   "display_name": "Python 3",
   "language": "python",
   "name": "python3"
  },
  "language_info": {
   "codemirror_mode": {
    "name": "ipython",
    "version": 3
   },
   "file_extension": ".py",
   "mimetype": "text/x-python",
   "name": "python",
   "nbconvert_exporter": "python",
   "pygments_lexer": "ipython3",
   "version": "3.8.5"
  }
 },
 "nbformat": 4,
 "nbformat_minor": 4
}
